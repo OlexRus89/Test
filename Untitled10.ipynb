{
  "nbformat": 4,
  "nbformat_minor": 0,
  "metadata": {
    "colab": {
      "provenance": []
    },
    "kernelspec": {
      "name": "python3",
      "display_name": "Python 3"
    },
    "language_info": {
      "name": "python"
    }
  },
  "cells": [
    {
      "cell_type": "code",
      "execution_count": 1,
      "metadata": {
        "colab": {
          "base_uri": "https://localhost:8080/"
        },
        "id": "nkixtZRfROHm",
        "outputId": "555ab263-34cc-4646-d9ea-5ba04678b7d3"
      },
      "outputs": [
        {
          "output_type": "stream",
          "name": "stdout",
          "text": [
            "Введите число: 76987\n",
            "76992\n"
          ]
        }
      ],
      "source": [
        "x = 5\n",
        "b = input(\"Введите число: \")\n",
        "print(x + int(b))"
      ]
    }
  ]
}